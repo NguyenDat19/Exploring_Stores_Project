{
 "cells": [
  {
   "cell_type": "code",
   "execution_count": 5,
   "metadata": {},
   "outputs": [
    {
     "name": "stderr",
     "output_type": "stream",
     "text": [
      "c:\\Users\\admin\\anaconda3\\lib\\site-packages\\scipy\\__init__.py:146: UserWarning: A NumPy version >=1.16.5 and <1.23.0 is required for this version of SciPy (detected version 1.24.3\n",
      "  warnings.warn(f\"A NumPy version >={np_minversion} and <{np_maxversion}\"\n"
     ]
    }
   ],
   "source": [
    "import pandas as pd\n",
    "import numpy as np\n",
    "import matplotlib.pyplot as plt\n",
    "import seaborn as sns\n",
    "import plotly.express as px\n",
    "from plotly.subplots import make_subplots\n",
    "import plotly.graph_objects as go\n",
    "import pyodbc"
   ]
  },
  {
   "cell_type": "code",
   "execution_count": 6,
   "metadata": {},
   "outputs": [],
   "source": [
    "cnxn_str = ('DRIVER={SQL Server};'\n",
    "            'SERVER=DESKTOP-EUDP8MN\\KUROMINE;'\n",
    "            'DATABASE=pj1;'\n",
    "            'UID=sa;'\n",
    "            'PWD=19122002')\n",
    "cnxn = pyodbc.connect(cnxn_str)"
   ]
  },
  {
   "cell_type": "code",
   "execution_count": 7,
   "metadata": {},
   "outputs": [
    {
     "data": {
      "text/html": [
       "<div>\n",
       "<style scoped>\n",
       "    .dataframe tbody tr th:only-of-type {\n",
       "        vertical-align: middle;\n",
       "    }\n",
       "\n",
       "    .dataframe tbody tr th {\n",
       "        vertical-align: top;\n",
       "    }\n",
       "\n",
       "    .dataframe thead th {\n",
       "        text-align: right;\n",
       "    }\n",
       "</style>\n",
       "<table border=\"1\" class=\"dataframe\">\n",
       "  <thead>\n",
       "    <tr style=\"text-align: right;\">\n",
       "      <th></th>\n",
       "      <th>id</th>\n",
       "      <th>date</th>\n",
       "      <th>store_nbr</th>\n",
       "      <th>family</th>\n",
       "      <th>sales</th>\n",
       "      <th>onpromotion</th>\n",
       "    </tr>\n",
       "  </thead>\n",
       "  <tbody>\n",
       "    <tr>\n",
       "      <th>0</th>\n",
       "      <td>0</td>\n",
       "      <td>2013-01-01</td>\n",
       "      <td>1</td>\n",
       "      <td>AUTOMOTIVE</td>\n",
       "      <td>0.0</td>\n",
       "      <td>0</td>\n",
       "    </tr>\n",
       "    <tr>\n",
       "      <th>1</th>\n",
       "      <td>1</td>\n",
       "      <td>2013-01-01</td>\n",
       "      <td>1</td>\n",
       "      <td>BABY CARE</td>\n",
       "      <td>0.0</td>\n",
       "      <td>0</td>\n",
       "    </tr>\n",
       "    <tr>\n",
       "      <th>2</th>\n",
       "      <td>2</td>\n",
       "      <td>2013-01-01</td>\n",
       "      <td>1</td>\n",
       "      <td>BEAUTY</td>\n",
       "      <td>0.0</td>\n",
       "      <td>0</td>\n",
       "    </tr>\n",
       "    <tr>\n",
       "      <th>3</th>\n",
       "      <td>3</td>\n",
       "      <td>2013-01-01</td>\n",
       "      <td>1</td>\n",
       "      <td>BEVERAGES</td>\n",
       "      <td>0.0</td>\n",
       "      <td>0</td>\n",
       "    </tr>\n",
       "    <tr>\n",
       "      <th>4</th>\n",
       "      <td>4</td>\n",
       "      <td>2013-01-01</td>\n",
       "      <td>1</td>\n",
       "      <td>BOOKS</td>\n",
       "      <td>0.0</td>\n",
       "      <td>0</td>\n",
       "    </tr>\n",
       "  </tbody>\n",
       "</table>\n",
       "</div>"
      ],
      "text/plain": [
       "   id        date  store_nbr                          family  sales  \\\n",
       "0   0  2013-01-01          1  AUTOMOTIVE                        0.0   \n",
       "1   1  2013-01-01          1  BABY CARE                         0.0   \n",
       "2   2  2013-01-01          1  BEAUTY                            0.0   \n",
       "3   3  2013-01-01          1  BEVERAGES                         0.0   \n",
       "4   4  2013-01-01          1  BOOKS                             0.0   \n",
       "\n",
       "   onpromotion  \n",
       "0            0  \n",
       "1            0  \n",
       "2            0  \n",
       "3            0  \n",
       "4            0  "
      ]
     },
     "execution_count": 7,
     "metadata": {},
     "output_type": "execute_result"
    }
   ],
   "source": [
    "train_df = pd.read_sql(\"select * from train\", cnxn)\n",
    "train_df.head()"
   ]
  },
  {
   "cell_type": "code",
   "execution_count": 8,
   "metadata": {},
   "outputs": [
    {
     "data": {
      "text/html": [
       "<div>\n",
       "<style scoped>\n",
       "    .dataframe tbody tr th:only-of-type {\n",
       "        vertical-align: middle;\n",
       "    }\n",
       "\n",
       "    .dataframe tbody tr th {\n",
       "        vertical-align: top;\n",
       "    }\n",
       "\n",
       "    .dataframe thead th {\n",
       "        text-align: right;\n",
       "    }\n",
       "</style>\n",
       "<table border=\"1\" class=\"dataframe\">\n",
       "  <thead>\n",
       "    <tr style=\"text-align: right;\">\n",
       "      <th></th>\n",
       "      <th>date</th>\n",
       "      <th>dcoilwtico</th>\n",
       "    </tr>\n",
       "  </thead>\n",
       "  <tbody>\n",
       "    <tr>\n",
       "      <th>0</th>\n",
       "      <td>2013-01-01</td>\n",
       "      <td>NaN</td>\n",
       "    </tr>\n",
       "    <tr>\n",
       "      <th>1</th>\n",
       "      <td>2013-01-02</td>\n",
       "      <td>93.14</td>\n",
       "    </tr>\n",
       "    <tr>\n",
       "      <th>2</th>\n",
       "      <td>2013-01-03</td>\n",
       "      <td>92.97</td>\n",
       "    </tr>\n",
       "    <tr>\n",
       "      <th>3</th>\n",
       "      <td>2013-01-04</td>\n",
       "      <td>93.12</td>\n",
       "    </tr>\n",
       "    <tr>\n",
       "      <th>4</th>\n",
       "      <td>2013-01-07</td>\n",
       "      <td>93.20</td>\n",
       "    </tr>\n",
       "  </tbody>\n",
       "</table>\n",
       "</div>"
      ],
      "text/plain": [
       "         date  dcoilwtico\n",
       "0  2013-01-01         NaN\n",
       "1  2013-01-02       93.14\n",
       "2  2013-01-03       92.97\n",
       "3  2013-01-04       93.12\n",
       "4  2013-01-07       93.20"
      ]
     },
     "execution_count": 8,
     "metadata": {},
     "output_type": "execute_result"
    }
   ],
   "source": [
    "oil_df=pd.read_sql(\"select * from oil\", cnxn)\n",
    "oil_df.head()"
   ]
  },
  {
   "cell_type": "code",
   "execution_count": 9,
   "metadata": {},
   "outputs": [
    {
     "data": {
      "text/html": [
       "<div>\n",
       "<style scoped>\n",
       "    .dataframe tbody tr th:only-of-type {\n",
       "        vertical-align: middle;\n",
       "    }\n",
       "\n",
       "    .dataframe tbody tr th {\n",
       "        vertical-align: top;\n",
       "    }\n",
       "\n",
       "    .dataframe thead th {\n",
       "        text-align: right;\n",
       "    }\n",
       "</style>\n",
       "<table border=\"1\" class=\"dataframe\">\n",
       "  <thead>\n",
       "    <tr style=\"text-align: right;\">\n",
       "      <th></th>\n",
       "      <th>store_nbr</th>\n",
       "      <th>city</th>\n",
       "      <th>state</th>\n",
       "      <th>type</th>\n",
       "      <th>cluster</th>\n",
       "    </tr>\n",
       "  </thead>\n",
       "  <tbody>\n",
       "    <tr>\n",
       "      <th>0</th>\n",
       "      <td>1</td>\n",
       "      <td>Quito</td>\n",
       "      <td>Pichincha</td>\n",
       "      <td>D</td>\n",
       "      <td>13</td>\n",
       "    </tr>\n",
       "    <tr>\n",
       "      <th>1</th>\n",
       "      <td>2</td>\n",
       "      <td>Quito</td>\n",
       "      <td>Pichincha</td>\n",
       "      <td>D</td>\n",
       "      <td>13</td>\n",
       "    </tr>\n",
       "    <tr>\n",
       "      <th>2</th>\n",
       "      <td>3</td>\n",
       "      <td>Quito</td>\n",
       "      <td>Pichincha</td>\n",
       "      <td>D</td>\n",
       "      <td>8</td>\n",
       "    </tr>\n",
       "    <tr>\n",
       "      <th>3</th>\n",
       "      <td>4</td>\n",
       "      <td>Quito</td>\n",
       "      <td>Pichincha</td>\n",
       "      <td>D</td>\n",
       "      <td>9</td>\n",
       "    </tr>\n",
       "    <tr>\n",
       "      <th>4</th>\n",
       "      <td>5</td>\n",
       "      <td>Santo Domingo</td>\n",
       "      <td>Santo Domingo de los Tsachilas</td>\n",
       "      <td>D</td>\n",
       "      <td>4</td>\n",
       "    </tr>\n",
       "  </tbody>\n",
       "</table>\n",
       "</div>"
      ],
      "text/plain": [
       "   store_nbr                            city                           state  \\\n",
       "0          1  Quito                           Pichincha                        \n",
       "1          2  Quito                           Pichincha                        \n",
       "2          3  Quito                           Pichincha                        \n",
       "3          4  Quito                           Pichincha                        \n",
       "4          5  Santo Domingo                   Santo Domingo de los Tsachilas   \n",
       "\n",
       "                             type  cluster  \n",
       "0  D                                    13  \n",
       "1  D                                    13  \n",
       "2  D                                     8  \n",
       "3  D                                     9  \n",
       "4  D                                     4  "
      ]
     },
     "execution_count": 9,
     "metadata": {},
     "output_type": "execute_result"
    }
   ],
   "source": [
    "stores_df=pd.read_sql('select * from stores', cnxn)\n",
    "stores_df.head()"
   ]
  },
  {
   "cell_type": "code",
   "execution_count": 10,
   "metadata": {},
   "outputs": [
    {
     "data": {
      "text/html": [
       "<div>\n",
       "<style scoped>\n",
       "    .dataframe tbody tr th:only-of-type {\n",
       "        vertical-align: middle;\n",
       "    }\n",
       "\n",
       "    .dataframe tbody tr th {\n",
       "        vertical-align: top;\n",
       "    }\n",
       "\n",
       "    .dataframe thead th {\n",
       "        text-align: right;\n",
       "    }\n",
       "</style>\n",
       "<table border=\"1\" class=\"dataframe\">\n",
       "  <thead>\n",
       "    <tr style=\"text-align: right;\">\n",
       "      <th></th>\n",
       "      <th>date</th>\n",
       "      <th>type</th>\n",
       "      <th>locale</th>\n",
       "      <th>locale_name</th>\n",
       "      <th>description</th>\n",
       "      <th>transferred</th>\n",
       "    </tr>\n",
       "  </thead>\n",
       "  <tbody>\n",
       "    <tr>\n",
       "      <th>0</th>\n",
       "      <td>2012-03-02</td>\n",
       "      <td>Holiday</td>\n",
       "      <td>Local</td>\n",
       "      <td>Manta</td>\n",
       "      <td>Fundacion de Manta</td>\n",
       "      <td>False</td>\n",
       "    </tr>\n",
       "    <tr>\n",
       "      <th>1</th>\n",
       "      <td>2012-04-01</td>\n",
       "      <td>Holiday</td>\n",
       "      <td>Regional</td>\n",
       "      <td>Cotopaxi</td>\n",
       "      <td>Provincializacion de Cotopaxi</td>\n",
       "      <td>False</td>\n",
       "    </tr>\n",
       "    <tr>\n",
       "      <th>2</th>\n",
       "      <td>2012-04-12</td>\n",
       "      <td>Holiday</td>\n",
       "      <td>Local</td>\n",
       "      <td>Cuenca</td>\n",
       "      <td>Fundacion de Cuenca</td>\n",
       "      <td>False</td>\n",
       "    </tr>\n",
       "    <tr>\n",
       "      <th>3</th>\n",
       "      <td>2012-04-14</td>\n",
       "      <td>Holiday</td>\n",
       "      <td>Local</td>\n",
       "      <td>Libertad</td>\n",
       "      <td>Cantonizacion de Libertad</td>\n",
       "      <td>False</td>\n",
       "    </tr>\n",
       "    <tr>\n",
       "      <th>4</th>\n",
       "      <td>2012-04-21</td>\n",
       "      <td>Holiday</td>\n",
       "      <td>Local</td>\n",
       "      <td>Riobamba</td>\n",
       "      <td>Cantonizacion de Riobamba</td>\n",
       "      <td>False</td>\n",
       "    </tr>\n",
       "  </tbody>\n",
       "</table>\n",
       "</div>"
      ],
      "text/plain": [
       "         date                  type                          locale  \\\n",
       "0  2012-03-02  Holiday               Local                            \n",
       "1  2012-04-01  Holiday               Regional                         \n",
       "2  2012-04-12  Holiday               Local                            \n",
       "3  2012-04-14  Holiday               Local                            \n",
       "4  2012-04-21  Holiday               Local                            \n",
       "\n",
       "                      locale_name                               description  \\\n",
       "0  Manta                           Fundacion de Manta                         \n",
       "1  Cotopaxi                        Provincializacion de Cotopaxi              \n",
       "2  Cuenca                          Fundacion de Cuenca                        \n",
       "3  Libertad                        Cantonizacion de Libertad                  \n",
       "4  Riobamba                        Cantonizacion de Riobamba                  \n",
       "\n",
       "  transferred  \n",
       "0  False       \n",
       "1  False       \n",
       "2  False       \n",
       "3  False       \n",
       "4  False       "
      ]
     },
     "execution_count": 10,
     "metadata": {},
     "output_type": "execute_result"
    }
   ],
   "source": [
    "holidays_events_df=pd.read_sql('select * from holidays_events', cnxn)\n",
    "holidays_events_df.head()"
   ]
  },
  {
   "cell_type": "code",
   "execution_count": 11,
   "metadata": {},
   "outputs": [
    {
     "data": {
      "text/html": [
       "<div>\n",
       "<style scoped>\n",
       "    .dataframe tbody tr th:only-of-type {\n",
       "        vertical-align: middle;\n",
       "    }\n",
       "\n",
       "    .dataframe tbody tr th {\n",
       "        vertical-align: top;\n",
       "    }\n",
       "\n",
       "    .dataframe thead th {\n",
       "        text-align: right;\n",
       "    }\n",
       "</style>\n",
       "<table border=\"1\" class=\"dataframe\">\n",
       "  <thead>\n",
       "    <tr style=\"text-align: right;\">\n",
       "      <th></th>\n",
       "      <th>date</th>\n",
       "      <th>store_nbr</th>\n",
       "      <th>transactions</th>\n",
       "    </tr>\n",
       "  </thead>\n",
       "  <tbody>\n",
       "    <tr>\n",
       "      <th>0</th>\n",
       "      <td>2013-01-01</td>\n",
       "      <td>25</td>\n",
       "      <td>770</td>\n",
       "    </tr>\n",
       "    <tr>\n",
       "      <th>1</th>\n",
       "      <td>2013-01-02</td>\n",
       "      <td>1</td>\n",
       "      <td>2111</td>\n",
       "    </tr>\n",
       "    <tr>\n",
       "      <th>2</th>\n",
       "      <td>2013-01-02</td>\n",
       "      <td>2</td>\n",
       "      <td>2358</td>\n",
       "    </tr>\n",
       "    <tr>\n",
       "      <th>3</th>\n",
       "      <td>2013-01-02</td>\n",
       "      <td>3</td>\n",
       "      <td>3487</td>\n",
       "    </tr>\n",
       "    <tr>\n",
       "      <th>4</th>\n",
       "      <td>2013-01-02</td>\n",
       "      <td>4</td>\n",
       "      <td>1922</td>\n",
       "    </tr>\n",
       "  </tbody>\n",
       "</table>\n",
       "</div>"
      ],
      "text/plain": [
       "         date  store_nbr  transactions\n",
       "0  2013-01-01         25           770\n",
       "1  2013-01-02          1          2111\n",
       "2  2013-01-02          2          2358\n",
       "3  2013-01-02          3          3487\n",
       "4  2013-01-02          4          1922"
      ]
     },
     "execution_count": 11,
     "metadata": {},
     "output_type": "execute_result"
    }
   ],
   "source": [
    "transactions_df=pd.read_sql('select * from transactions', cnxn)\n",
    "transactions_df.head()"
   ]
  },
  {
   "cell_type": "markdown",
   "metadata": {},
   "source": [
    "### Kiểm tra dữ liệu lặp"
   ]
  },
  {
   "cell_type": "code",
   "execution_count": 12,
   "metadata": {},
   "outputs": [],
   "source": [
    "def check_duplicated(dataframe):\n",
    "    duplicated_rows = dataframe.duplicated()\n",
    "\n",
    "    # In các hàng bị lặp lại\n",
    "    if len(dataframe[duplicated_rows])>0:\n",
    "        print('Có dòng dữ liệu bị lặp')\n",
    "        display(dataframe[duplicated_rows])\n",
    "    else:\n",
    "        print('Không có dòng dữ liệu nào bị lặp')"
   ]
  },
  {
   "cell_type": "code",
   "execution_count": 13,
   "metadata": {},
   "outputs": [
    {
     "name": "stdout",
     "output_type": "stream",
     "text": [
      "Không có dòng dữ liệu nào bị lặp\n"
     ]
    }
   ],
   "source": [
    "check_duplicated(train_df)"
   ]
  },
  {
   "cell_type": "code",
   "execution_count": 14,
   "metadata": {},
   "outputs": [
    {
     "name": "stdout",
     "output_type": "stream",
     "text": [
      "Không có dòng dữ liệu nào bị lặp\n"
     ]
    }
   ],
   "source": [
    "check_duplicated(oil_df)"
   ]
  },
  {
   "cell_type": "code",
   "execution_count": 15,
   "metadata": {},
   "outputs": [
    {
     "name": "stdout",
     "output_type": "stream",
     "text": [
      "Không có dòng dữ liệu nào bị lặp\n"
     ]
    }
   ],
   "source": [
    "check_duplicated(stores_df)"
   ]
  },
  {
   "cell_type": "code",
   "execution_count": 16,
   "metadata": {},
   "outputs": [
    {
     "name": "stdout",
     "output_type": "stream",
     "text": [
      "Không có dòng dữ liệu nào bị lặp\n"
     ]
    }
   ],
   "source": [
    "check_duplicated(holidays_events_df)"
   ]
  },
  {
   "cell_type": "code",
   "execution_count": 17,
   "metadata": {},
   "outputs": [
    {
     "name": "stdout",
     "output_type": "stream",
     "text": [
      "Không có dòng dữ liệu nào bị lặp\n"
     ]
    }
   ],
   "source": [
    "check_duplicated(transactions_df)"
   ]
  },
  {
   "cell_type": "markdown",
   "metadata": {},
   "source": [
    "### <font color=#529603> Mỗi cột có ý nghĩa gì? </font>"
   ]
  },
  {
   "cell_type": "markdown",
   "metadata": {},
   "source": [
    "- train_df"
   ]
  },
  {
   "cell_type": "markdown",
   "metadata": {},
   "source": [
    "|<center>STT</center>|<center>Tên cột dữ liệu</center> | <center>Mô tả</center> |\n",
    "|--|:------:| ---|\n",
    "|1|id|<center>Định danh của sản phẩm<center>|\n",
    "|2|date| <center>Ngày<center>|\n",
    "|3|store_nbr|<center>Định danh cửa hàng<center>|\n",
    "|4|family| <center>Họ sản phẩm<center>||\n",
    "|5|sales|<center>Doanh số<center>|\n",
    "|6|onpromotion|<center>Được quảng bá?<center>|\n"
   ]
  },
  {
   "cell_type": "markdown",
   "metadata": {},
   "source": [
    "- oil_df"
   ]
  },
  {
   "cell_type": "markdown",
   "metadata": {},
   "source": [
    "|<center>STT</center>|<center>Tên cột dữ liệu</center> | <center>Mô tả</center> |\n",
    "|--|:------:| ---|\n",
    "|1|date|<center>Ngày<center>|\n",
    "|2|dcoilwtico| <center>Giá dầu<center>|\n"
   ]
  },
  {
   "cell_type": "markdown",
   "metadata": {},
   "source": [
    "- stores_df"
   ]
  },
  {
   "cell_type": "markdown",
   "metadata": {},
   "source": [
    "|<center>STT</center>|<center>Tên cột dữ liệu</center> | <center>Mô tả</center> |\n",
    "|--|:------:| ---|\n",
    "|1|store_nbr|<center>Định danh của cửa hàng<center>|\n",
    "|2|city| <center>Thành phố<center>|\n",
    "|3|state| <center>Bang<center>|\n",
    "|4|type|<center>Loại cửa hàng<center>|\n",
    "|5|cluster| <center>Nhóm cửa hàng<center>|\n",
    "\n"
   ]
  },
  {
   "cell_type": "markdown",
   "metadata": {},
   "source": [
    "- holidays_events_df"
   ]
  },
  {
   "cell_type": "markdown",
   "metadata": {},
   "source": [
    "|<center>STT</center>|<center>Tên cột dữ liệu</center> | <center>Mô tả</center> |\n",
    "|--|:------:| ---|\n",
    "|1|date|<center>Ngày<center>|\n",
    "|2|type| <center>Loại ngày<center>|\n",
    "|3|locale| <center>Loại địa phương<center>|\n",
    "|4|locale_name|<center>Tên địa phương<center>|\n",
    "|5|description| <center>Mô tả về ngày<center>|\n",
    "|5|transferred| <center>Có đổi ngày sự kiện không?<center>|\n"
   ]
  },
  {
   "cell_type": "markdown",
   "metadata": {},
   "source": [
    "- transactions_df"
   ]
  },
  {
   "cell_type": "markdown",
   "metadata": {},
   "source": [
    "|<center>STT</center>|<center>Tên cột dữ liệu</center> | <center>Mô tả</center> |\n",
    "|--|:------:| ---|\n",
    "|1|date|<center>Ngày<center>|\n",
    "|2|store_nbr| <center>Định danh cửa hàng<center>|\n",
    "|3|transactions| <center>Số lượng giao dịch<center>|\n"
   ]
  },
  {
   "cell_type": "markdown",
   "metadata": {},
   "source": [
    "### <font color=#529603> Mỗi cột có kiểu dữ liệu gì? </font>\n"
   ]
  },
  {
   "cell_type": "code",
   "execution_count": 18,
   "metadata": {},
   "outputs": [
    {
     "data": {
      "text/plain": [
       "id               int64\n",
       "date            object\n",
       "store_nbr        int64\n",
       "family          object\n",
       "sales          float64\n",
       "onpromotion      int64\n",
       "dtype: object"
      ]
     },
     "execution_count": 18,
     "metadata": {},
     "output_type": "execute_result"
    }
   ],
   "source": [
    "train_df.dtypes"
   ]
  },
  {
   "cell_type": "code",
   "execution_count": 19,
   "metadata": {},
   "outputs": [
    {
     "data": {
      "text/plain": [
       "date           object\n",
       "dcoilwtico    float64\n",
       "dtype: object"
      ]
     },
     "execution_count": 19,
     "metadata": {},
     "output_type": "execute_result"
    }
   ],
   "source": [
    "oil_df.dtypes"
   ]
  },
  {
   "cell_type": "code",
   "execution_count": 20,
   "metadata": {},
   "outputs": [
    {
     "data": {
      "text/plain": [
       "store_nbr     int64\n",
       "city         object\n",
       "state        object\n",
       "type         object\n",
       "cluster       int64\n",
       "dtype: object"
      ]
     },
     "execution_count": 20,
     "metadata": {},
     "output_type": "execute_result"
    }
   ],
   "source": [
    "stores_df.dtypes"
   ]
  },
  {
   "cell_type": "code",
   "execution_count": 21,
   "metadata": {},
   "outputs": [
    {
     "data": {
      "text/plain": [
       "date           object\n",
       "type           object\n",
       "locale         object\n",
       "locale_name    object\n",
       "description    object\n",
       "transferred    object\n",
       "dtype: object"
      ]
     },
     "execution_count": 21,
     "metadata": {},
     "output_type": "execute_result"
    }
   ],
   "source": [
    "holidays_events_df.dtypes"
   ]
  },
  {
   "cell_type": "code",
   "execution_count": 22,
   "metadata": {},
   "outputs": [
    {
     "data": {
      "text/plain": [
       "date            object\n",
       "store_nbr        int64\n",
       "transactions     int64\n",
       "dtype: object"
      ]
     },
     "execution_count": 22,
     "metadata": {},
     "output_type": "execute_result"
    }
   ],
   "source": [
    "transactions_df.dtypes"
   ]
  },
  {
   "cell_type": "markdown",
   "metadata": {},
   "source": [
    "### <font color=#529603> Với mỗi cột, các giá trị được phân bố như thế nào? </font>\n"
   ]
  },
  {
   "cell_type": "markdown",
   "metadata": {},
   "source": [
    "Với các cột dữ liệu dạng số ta sẽ tính % dữ liệu thiếu, min, max. Kết quả được lưu vào DataFrame `nume_col_profiles_df` với:\n",
    "- `missing_ratio`: % dữ liệu thiếu.\n",
    "- `min`: giá trị nhỏ nhất.\n",
    "- `max`: giá trị lớn nhất."
   ]
  },
  {
   "cell_type": "code",
   "execution_count": 23,
   "metadata": {},
   "outputs": [],
   "source": [
    "def missing_ratio(c):\n",
    "    return  c.isna().sum()/len(c) * 100\n",
    "\n",
    "def min(c):\n",
    "    return c.min()\n",
    "\n",
    "def max(c):\n",
    "    return c.max()"
   ]
  },
  {
   "cell_type": "code",
   "execution_count": 24,
   "metadata": {},
   "outputs": [
    {
     "data": {
      "text/html": [
       "<div>\n",
       "<style scoped>\n",
       "    .dataframe tbody tr th:only-of-type {\n",
       "        vertical-align: middle;\n",
       "    }\n",
       "\n",
       "    .dataframe tbody tr th {\n",
       "        vertical-align: top;\n",
       "    }\n",
       "\n",
       "    .dataframe thead th {\n",
       "        text-align: right;\n",
       "    }\n",
       "</style>\n",
       "<table border=\"1\" class=\"dataframe\">\n",
       "  <thead>\n",
       "    <tr style=\"text-align: right;\">\n",
       "      <th></th>\n",
       "      <th>id</th>\n",
       "      <th>store_nbr</th>\n",
       "      <th>sales</th>\n",
       "      <th>onpromotion</th>\n",
       "    </tr>\n",
       "  </thead>\n",
       "  <tbody>\n",
       "    <tr>\n",
       "      <th>missing_ratio</th>\n",
       "      <td>0.0</td>\n",
       "      <td>0.0</td>\n",
       "      <td>0.0</td>\n",
       "      <td>0.0</td>\n",
       "    </tr>\n",
       "    <tr>\n",
       "      <th>min</th>\n",
       "      <td>0.0</td>\n",
       "      <td>1.0</td>\n",
       "      <td>0.0</td>\n",
       "      <td>0.0</td>\n",
       "    </tr>\n",
       "    <tr>\n",
       "      <th>max</th>\n",
       "      <td>3000887.0</td>\n",
       "      <td>54.0</td>\n",
       "      <td>124717.0</td>\n",
       "      <td>741.0</td>\n",
       "    </tr>\n",
       "  </tbody>\n",
       "</table>\n",
       "</div>"
      ],
      "text/plain": [
       "                      id  store_nbr     sales  onpromotion\n",
       "missing_ratio        0.0        0.0       0.0          0.0\n",
       "min                  0.0        1.0       0.0          0.0\n",
       "max            3000887.0       54.0  124717.0        741.0"
      ]
     },
     "execution_count": 24,
     "metadata": {},
     "output_type": "execute_result"
    }
   ],
   "source": [
    "numerical_cols = train_df[train_df.select_dtypes(exclude=['object']).columns]\n",
    "nume_col_train_df = numerical_cols.agg([missing_ratio, min, max])\n",
    "nume_col_train_df"
   ]
  },
  {
   "cell_type": "code",
   "execution_count": 25,
   "metadata": {},
   "outputs": [
    {
     "data": {
      "text/html": [
       "<div>\n",
       "<style scoped>\n",
       "    .dataframe tbody tr th:only-of-type {\n",
       "        vertical-align: middle;\n",
       "    }\n",
       "\n",
       "    .dataframe tbody tr th {\n",
       "        vertical-align: top;\n",
       "    }\n",
       "\n",
       "    .dataframe thead th {\n",
       "        text-align: right;\n",
       "    }\n",
       "</style>\n",
       "<table border=\"1\" class=\"dataframe\">\n",
       "  <thead>\n",
       "    <tr style=\"text-align: right;\">\n",
       "      <th></th>\n",
       "      <th>dcoilwtico</th>\n",
       "    </tr>\n",
       "  </thead>\n",
       "  <tbody>\n",
       "    <tr>\n",
       "      <th>missing_ratio</th>\n",
       "      <td>3.530378</td>\n",
       "    </tr>\n",
       "    <tr>\n",
       "      <th>min</th>\n",
       "      <td>26.190000</td>\n",
       "    </tr>\n",
       "    <tr>\n",
       "      <th>max</th>\n",
       "      <td>110.620000</td>\n",
       "    </tr>\n",
       "  </tbody>\n",
       "</table>\n",
       "</div>"
      ],
      "text/plain": [
       "               dcoilwtico\n",
       "missing_ratio    3.530378\n",
       "min             26.190000\n",
       "max            110.620000"
      ]
     },
     "execution_count": 25,
     "metadata": {},
     "output_type": "execute_result"
    }
   ],
   "source": [
    "numerical_cols = oil_df[oil_df.select_dtypes(exclude=['object']).columns]\n",
    "nume_col_oil_df = numerical_cols.agg([missing_ratio, min, max])\n",
    "nume_col_oil_df"
   ]
  },
  {
   "cell_type": "code",
   "execution_count": 26,
   "metadata": {},
   "outputs": [
    {
     "data": {
      "text/html": [
       "<div>\n",
       "<style scoped>\n",
       "    .dataframe tbody tr th:only-of-type {\n",
       "        vertical-align: middle;\n",
       "    }\n",
       "\n",
       "    .dataframe tbody tr th {\n",
       "        vertical-align: top;\n",
       "    }\n",
       "\n",
       "    .dataframe thead th {\n",
       "        text-align: right;\n",
       "    }\n",
       "</style>\n",
       "<table border=\"1\" class=\"dataframe\">\n",
       "  <thead>\n",
       "    <tr style=\"text-align: right;\">\n",
       "      <th></th>\n",
       "      <th>store_nbr</th>\n",
       "      <th>cluster</th>\n",
       "    </tr>\n",
       "  </thead>\n",
       "  <tbody>\n",
       "    <tr>\n",
       "      <th>missing_ratio</th>\n",
       "      <td>0.0</td>\n",
       "      <td>0.0</td>\n",
       "    </tr>\n",
       "    <tr>\n",
       "      <th>min</th>\n",
       "      <td>1.0</td>\n",
       "      <td>1.0</td>\n",
       "    </tr>\n",
       "    <tr>\n",
       "      <th>max</th>\n",
       "      <td>54.0</td>\n",
       "      <td>17.0</td>\n",
       "    </tr>\n",
       "  </tbody>\n",
       "</table>\n",
       "</div>"
      ],
      "text/plain": [
       "               store_nbr  cluster\n",
       "missing_ratio        0.0      0.0\n",
       "min                  1.0      1.0\n",
       "max                 54.0     17.0"
      ]
     },
     "execution_count": 26,
     "metadata": {},
     "output_type": "execute_result"
    }
   ],
   "source": [
    "numerical_cols = stores_df[stores_df.select_dtypes(exclude=['object']).columns]\n",
    "nume_col_stores_df = numerical_cols.agg([missing_ratio, min, max])\n",
    "nume_col_stores_df"
   ]
  },
  {
   "cell_type": "markdown",
   "metadata": {},
   "source": [
    "Với các cột categorical, ta tính tỉ lệ % dữ liệu thiếu, số lượng giá trị khác nhau, phân bố của các giá trị khác nhau. Kết quả được lưu vào DataFrame `cate_col_profiles_df` với:\n",
    "- `missing_ratio`: % dữ liệu thiếu\n",
    "- `num_diff_vals`: số lượng giá trị khác |nhau <em>(không xét giá trị thiếu)</em>\n",
    "- `ratio_diff_vals`: phân bố của các giá trị khác nhau <em>(không xét giá trị thiếu)</em>."
   ]
  },
  {
   "cell_type": "code",
   "execution_count": 27,
   "metadata": {},
   "outputs": [
    {
     "data": {
      "text/html": [
       "<div>\n",
       "<style scoped>\n",
       "    .dataframe tbody tr th:only-of-type {\n",
       "        vertical-align: middle;\n",
       "    }\n",
       "\n",
       "    .dataframe tbody tr th {\n",
       "        vertical-align: top;\n",
       "    }\n",
       "\n",
       "    .dataframe thead th {\n",
       "        text-align: right;\n",
       "    }\n",
       "</style>\n",
       "<table border=\"1\" class=\"dataframe\">\n",
       "  <thead>\n",
       "    <tr style=\"text-align: right;\">\n",
       "      <th></th>\n",
       "      <th>store_nbr</th>\n",
       "      <th>transactions</th>\n",
       "    </tr>\n",
       "  </thead>\n",
       "  <tbody>\n",
       "    <tr>\n",
       "      <th>missing_ratio</th>\n",
       "      <td>0.0</td>\n",
       "      <td>0.0</td>\n",
       "    </tr>\n",
       "    <tr>\n",
       "      <th>min</th>\n",
       "      <td>1.0</td>\n",
       "      <td>5.0</td>\n",
       "    </tr>\n",
       "    <tr>\n",
       "      <th>max</th>\n",
       "      <td>54.0</td>\n",
       "      <td>8359.0</td>\n",
       "    </tr>\n",
       "  </tbody>\n",
       "</table>\n",
       "</div>"
      ],
      "text/plain": [
       "               store_nbr  transactions\n",
       "missing_ratio        0.0           0.0\n",
       "min                  1.0           5.0\n",
       "max                 54.0        8359.0"
      ]
     },
     "execution_count": 27,
     "metadata": {},
     "output_type": "execute_result"
    }
   ],
   "source": [
    "numerical_cols = transactions_df[transactions_df.select_dtypes(exclude=['object']).columns]\n",
    "nume_col_transactions_df = numerical_cols.agg([missing_ratio, min, max])\n",
    "nume_col_transactions_df"
   ]
  },
  {
   "cell_type": "code",
   "execution_count": 28,
   "metadata": {},
   "outputs": [],
   "source": [
    "def num_diff_vals(col):\n",
    "    return len(col.value_counts())\n",
    "\n",
    "def ratio_diff_vals(col):\n",
    "    return np.round(col.value_counts(normalize=True),2).to_dict()"
   ]
  },
  {
   "cell_type": "code",
   "execution_count": 29,
   "metadata": {},
   "outputs": [
    {
     "data": {
      "text/html": [
       "<div>\n",
       "<style scoped>\n",
       "    .dataframe tbody tr th:only-of-type {\n",
       "        vertical-align: middle;\n",
       "    }\n",
       "\n",
       "    .dataframe tbody tr th {\n",
       "        vertical-align: top;\n",
       "    }\n",
       "\n",
       "    .dataframe thead th {\n",
       "        text-align: right;\n",
       "    }\n",
       "</style>\n",
       "<table border=\"1\" class=\"dataframe\">\n",
       "  <thead>\n",
       "    <tr style=\"text-align: right;\">\n",
       "      <th></th>\n",
       "      <th>date</th>\n",
       "      <th>family</th>\n",
       "    </tr>\n",
       "  </thead>\n",
       "  <tbody>\n",
       "    <tr>\n",
       "      <th>missing_ratio</th>\n",
       "      <td>0.0</td>\n",
       "      <td>0.0</td>\n",
       "    </tr>\n",
       "    <tr>\n",
       "      <th>num_diff_vals</th>\n",
       "      <td>1684</td>\n",
       "      <td>33</td>\n",
       "    </tr>\n",
       "    <tr>\n",
       "      <th>ratio_diff_vals</th>\n",
       "      <td>{'2013-01-01': 0.0, '2016-01-15': 0.0, '2016-0...</td>\n",
       "      <td>{'AUTOMOTIVE                    ': 0.03, 'HOME...</td>\n",
       "    </tr>\n",
       "  </tbody>\n",
       "</table>\n",
       "</div>"
      ],
      "text/plain": [
       "                                                              date  \\\n",
       "missing_ratio                                                  0.0   \n",
       "num_diff_vals                                                 1684   \n",
       "ratio_diff_vals  {'2013-01-01': 0.0, '2016-01-15': 0.0, '2016-0...   \n",
       "\n",
       "                                                            family  \n",
       "missing_ratio                                                  0.0  \n",
       "num_diff_vals                                                   33  \n",
       "ratio_diff_vals  {'AUTOMOTIVE                    ': 0.03, 'HOME...  "
      ]
     },
     "execution_count": 29,
     "metadata": {},
     "output_type": "execute_result"
    }
   ],
   "source": [
    "object_cols = train_df[train_df.select_dtypes(include=['object']).columns]\n",
    "cate_col_train_df=object_cols.agg([missing_ratio,num_diff_vals,ratio_diff_vals])\n",
    "cate_col_train_df"
   ]
  },
  {
   "cell_type": "code",
   "execution_count": 30,
   "metadata": {},
   "outputs": [
    {
     "data": {
      "text/html": [
       "<div>\n",
       "<style scoped>\n",
       "    .dataframe tbody tr th:only-of-type {\n",
       "        vertical-align: middle;\n",
       "    }\n",
       "\n",
       "    .dataframe tbody tr th {\n",
       "        vertical-align: top;\n",
       "    }\n",
       "\n",
       "    .dataframe thead th {\n",
       "        text-align: right;\n",
       "    }\n",
       "</style>\n",
       "<table border=\"1\" class=\"dataframe\">\n",
       "  <thead>\n",
       "    <tr style=\"text-align: right;\">\n",
       "      <th></th>\n",
       "      <th>date</th>\n",
       "    </tr>\n",
       "  </thead>\n",
       "  <tbody>\n",
       "    <tr>\n",
       "      <th>missing_ratio</th>\n",
       "      <td>0.0</td>\n",
       "    </tr>\n",
       "    <tr>\n",
       "      <th>num_diff_vals</th>\n",
       "      <td>1218</td>\n",
       "    </tr>\n",
       "    <tr>\n",
       "      <th>ratio_diff_vals</th>\n",
       "      <td>{'2013-01-01': 0.0, '2016-02-08': 0.0, '2016-0...</td>\n",
       "    </tr>\n",
       "  </tbody>\n",
       "</table>\n",
       "</div>"
      ],
      "text/plain": [
       "                                                              date\n",
       "missing_ratio                                                  0.0\n",
       "num_diff_vals                                                 1218\n",
       "ratio_diff_vals  {'2013-01-01': 0.0, '2016-02-08': 0.0, '2016-0..."
      ]
     },
     "execution_count": 30,
     "metadata": {},
     "output_type": "execute_result"
    }
   ],
   "source": [
    "object_cols = oil_df[oil_df.select_dtypes(include=['object']).columns]\n",
    "cate_col_oil_df=object_cols.agg([missing_ratio,num_diff_vals,ratio_diff_vals])\n",
    "cate_col_oil_df"
   ]
  },
  {
   "cell_type": "code",
   "execution_count": 31,
   "metadata": {},
   "outputs": [
    {
     "data": {
      "text/html": [
       "<div>\n",
       "<style scoped>\n",
       "    .dataframe tbody tr th:only-of-type {\n",
       "        vertical-align: middle;\n",
       "    }\n",
       "\n",
       "    .dataframe tbody tr th {\n",
       "        vertical-align: top;\n",
       "    }\n",
       "\n",
       "    .dataframe thead th {\n",
       "        text-align: right;\n",
       "    }\n",
       "</style>\n",
       "<table border=\"1\" class=\"dataframe\">\n",
       "  <thead>\n",
       "    <tr style=\"text-align: right;\">\n",
       "      <th></th>\n",
       "      <th>city</th>\n",
       "      <th>state</th>\n",
       "      <th>type</th>\n",
       "    </tr>\n",
       "  </thead>\n",
       "  <tbody>\n",
       "    <tr>\n",
       "      <th>missing_ratio</th>\n",
       "      <td>0.0</td>\n",
       "      <td>0.0</td>\n",
       "      <td>0.0</td>\n",
       "    </tr>\n",
       "    <tr>\n",
       "      <th>num_diff_vals</th>\n",
       "      <td>22</td>\n",
       "      <td>16</td>\n",
       "      <td>5</td>\n",
       "    </tr>\n",
       "    <tr>\n",
       "      <th>ratio_diff_vals</th>\n",
       "      <td>{'Quito                         ': 0.33, 'Guay...</td>\n",
       "      <td>{'Pichincha                     ': 0.35, 'Guay...</td>\n",
       "      <td>{'D                             ': 0.33, 'C   ...</td>\n",
       "    </tr>\n",
       "  </tbody>\n",
       "</table>\n",
       "</div>"
      ],
      "text/plain": [
       "                                                              city  \\\n",
       "missing_ratio                                                  0.0   \n",
       "num_diff_vals                                                   22   \n",
       "ratio_diff_vals  {'Quito                         ': 0.33, 'Guay...   \n",
       "\n",
       "                                                             state  \\\n",
       "missing_ratio                                                  0.0   \n",
       "num_diff_vals                                                   16   \n",
       "ratio_diff_vals  {'Pichincha                     ': 0.35, 'Guay...   \n",
       "\n",
       "                                                              type  \n",
       "missing_ratio                                                  0.0  \n",
       "num_diff_vals                                                    5  \n",
       "ratio_diff_vals  {'D                             ': 0.33, 'C   ...  "
      ]
     },
     "execution_count": 31,
     "metadata": {},
     "output_type": "execute_result"
    }
   ],
   "source": [
    "object_cols = stores_df[stores_df.select_dtypes(include=['object']).columns]\n",
    "cate_col_stores_df=object_cols.agg([missing_ratio,num_diff_vals,ratio_diff_vals])\n",
    "cate_col_stores_df"
   ]
  },
  {
   "cell_type": "code",
   "execution_count": 32,
   "metadata": {},
   "outputs": [
    {
     "data": {
      "text/html": [
       "<div>\n",
       "<style scoped>\n",
       "    .dataframe tbody tr th:only-of-type {\n",
       "        vertical-align: middle;\n",
       "    }\n",
       "\n",
       "    .dataframe tbody tr th {\n",
       "        vertical-align: top;\n",
       "    }\n",
       "\n",
       "    .dataframe thead th {\n",
       "        text-align: right;\n",
       "    }\n",
       "</style>\n",
       "<table border=\"1\" class=\"dataframe\">\n",
       "  <thead>\n",
       "    <tr style=\"text-align: right;\">\n",
       "      <th></th>\n",
       "      <th>date</th>\n",
       "      <th>type</th>\n",
       "      <th>locale</th>\n",
       "      <th>locale_name</th>\n",
       "      <th>description</th>\n",
       "      <th>transferred</th>\n",
       "    </tr>\n",
       "  </thead>\n",
       "  <tbody>\n",
       "    <tr>\n",
       "      <th>missing_ratio</th>\n",
       "      <td>0.0</td>\n",
       "      <td>0.0</td>\n",
       "      <td>0.0</td>\n",
       "      <td>0.0</td>\n",
       "      <td>0.0</td>\n",
       "      <td>0.0</td>\n",
       "    </tr>\n",
       "    <tr>\n",
       "      <th>num_diff_vals</th>\n",
       "      <td>312</td>\n",
       "      <td>6</td>\n",
       "      <td>3</td>\n",
       "      <td>24</td>\n",
       "      <td>103</td>\n",
       "      <td>2</td>\n",
       "    </tr>\n",
       "    <tr>\n",
       "      <th>ratio_diff_vals</th>\n",
       "      <td>{'2014-06-25': 0.01, '2017-06-25': 0.01, '2016...</td>\n",
       "      <td>{'Holiday             ': 0.63, 'Event         ...</td>\n",
       "      <td>{'National                      ': 0.5, 'Local...</td>\n",
       "      <td>{'Ecuador                       ': 0.5, 'Quito...</td>\n",
       "      <td>{'Carnaval                                ': 0...</td>\n",
       "      <td>{'False     ': 0.97, 'True      ': 0.03}</td>\n",
       "    </tr>\n",
       "  </tbody>\n",
       "</table>\n",
       "</div>"
      ],
      "text/plain": [
       "                                                              date  \\\n",
       "missing_ratio                                                  0.0   \n",
       "num_diff_vals                                                  312   \n",
       "ratio_diff_vals  {'2014-06-25': 0.01, '2017-06-25': 0.01, '2016...   \n",
       "\n",
       "                                                              type  \\\n",
       "missing_ratio                                                  0.0   \n",
       "num_diff_vals                                                    6   \n",
       "ratio_diff_vals  {'Holiday             ': 0.63, 'Event         ...   \n",
       "\n",
       "                                                            locale  \\\n",
       "missing_ratio                                                  0.0   \n",
       "num_diff_vals                                                    3   \n",
       "ratio_diff_vals  {'National                      ': 0.5, 'Local...   \n",
       "\n",
       "                                                       locale_name  \\\n",
       "missing_ratio                                                  0.0   \n",
       "num_diff_vals                                                   24   \n",
       "ratio_diff_vals  {'Ecuador                       ': 0.5, 'Quito...   \n",
       "\n",
       "                                                       description  \\\n",
       "missing_ratio                                                  0.0   \n",
       "num_diff_vals                                                  103   \n",
       "ratio_diff_vals  {'Carnaval                                ': 0...   \n",
       "\n",
       "                                              transferred  \n",
       "missing_ratio                                         0.0  \n",
       "num_diff_vals                                           2  \n",
       "ratio_diff_vals  {'False     ': 0.97, 'True      ': 0.03}  "
      ]
     },
     "execution_count": 32,
     "metadata": {},
     "output_type": "execute_result"
    }
   ],
   "source": [
    "object_cols = holidays_events_df[holidays_events_df.select_dtypes(include=['object']).columns]\n",
    "cate_col_holidays_events_df=object_cols.agg([missing_ratio,num_diff_vals,ratio_diff_vals])\n",
    "cate_col_holidays_events_df"
   ]
  },
  {
   "cell_type": "code",
   "execution_count": 33,
   "metadata": {},
   "outputs": [
    {
     "data": {
      "text/html": [
       "<div>\n",
       "<style scoped>\n",
       "    .dataframe tbody tr th:only-of-type {\n",
       "        vertical-align: middle;\n",
       "    }\n",
       "\n",
       "    .dataframe tbody tr th {\n",
       "        vertical-align: top;\n",
       "    }\n",
       "\n",
       "    .dataframe thead th {\n",
       "        text-align: right;\n",
       "    }\n",
       "</style>\n",
       "<table border=\"1\" class=\"dataframe\">\n",
       "  <thead>\n",
       "    <tr style=\"text-align: right;\">\n",
       "      <th></th>\n",
       "      <th>date</th>\n",
       "    </tr>\n",
       "  </thead>\n",
       "  <tbody>\n",
       "    <tr>\n",
       "      <th>missing_ratio</th>\n",
       "      <td>0.0</td>\n",
       "    </tr>\n",
       "    <tr>\n",
       "      <th>num_diff_vals</th>\n",
       "      <td>1682</td>\n",
       "    </tr>\n",
       "    <tr>\n",
       "      <th>ratio_diff_vals</th>\n",
       "      <td>{'2017-08-15': 0.0, '2017-06-02': 0.0, '2017-0...</td>\n",
       "    </tr>\n",
       "  </tbody>\n",
       "</table>\n",
       "</div>"
      ],
      "text/plain": [
       "                                                              date\n",
       "missing_ratio                                                  0.0\n",
       "num_diff_vals                                                 1682\n",
       "ratio_diff_vals  {'2017-08-15': 0.0, '2017-06-02': 0.0, '2017-0..."
      ]
     },
     "execution_count": 33,
     "metadata": {},
     "output_type": "execute_result"
    }
   ],
   "source": [
    "object_cols = transactions_df[transactions_df.select_dtypes(include=['object']).columns]\n",
    "cate_col_transactions_df=object_cols.agg([missing_ratio,num_diff_vals,ratio_diff_vals])\n",
    "cate_col_transactions_df"
   ]
  },
  {
   "cell_type": "markdown",
   "metadata": {},
   "source": [
    "### <font color=#529603> Tiền xử lý</font>"
   ]
  },
  {
   "cell_type": "markdown",
   "metadata": {},
   "source": [
    "Tiến hành chỉnh kiểu dữ liệu cho những dữ liệu có kiểu `object`."
   ]
  },
  {
   "cell_type": "code",
   "execution_count": 34,
   "metadata": {},
   "outputs": [
    {
     "data": {
      "text/plain": [
       "id                      int64\n",
       "date           datetime64[ns]\n",
       "store_nbr               int64\n",
       "family                 string\n",
       "sales                 float64\n",
       "onpromotion             int64\n",
       "dtype: object"
      ]
     },
     "execution_count": 34,
     "metadata": {},
     "output_type": "execute_result"
    }
   ],
   "source": [
    "train_df.date=pd.to_datetime(train_df.date)\n",
    "train_df.family=train_df.family.astype('string')\n",
    "train_df.dtypes"
   ]
  },
  {
   "cell_type": "code",
   "execution_count": 35,
   "metadata": {},
   "outputs": [
    {
     "data": {
      "text/plain": [
       "date          datetime64[ns]\n",
       "dcoilwtico           float64\n",
       "dtype: object"
      ]
     },
     "execution_count": 35,
     "metadata": {},
     "output_type": "execute_result"
    }
   ],
   "source": [
    "oil_df.date=pd.to_datetime(oil_df.date)\n",
    "oil_df.dtypes"
   ]
  },
  {
   "cell_type": "code",
   "execution_count": 36,
   "metadata": {},
   "outputs": [
    {
     "data": {
      "text/plain": [
       "store_nbr     int64\n",
       "city         string\n",
       "state        string\n",
       "type         string\n",
       "cluster       int64\n",
       "dtype: object"
      ]
     },
     "execution_count": 36,
     "metadata": {},
     "output_type": "execute_result"
    }
   ],
   "source": [
    "stores_df.city=stores_df.city.astype('string')\n",
    "stores_df.state=stores_df.state.astype('string')\n",
    "stores_df.type=stores_df.type.astype('string')\n",
    "stores_df.dtypes"
   ]
  },
  {
   "cell_type": "code",
   "execution_count": 37,
   "metadata": {},
   "outputs": [
    {
     "data": {
      "text/plain": [
       "date           object\n",
       "type           string\n",
       "locale         object\n",
       "locale_name    object\n",
       "description    object\n",
       "transferred      bool\n",
       "dtype: object"
      ]
     },
     "execution_count": 37,
     "metadata": {},
     "output_type": "execute_result"
    }
   ],
   "source": [
    "holidays_events_df.type=holidays_events_df.type.astype('string')\n",
    "holidays_events_df.transferred=holidays_events_df.transferred.astype(bool)\n",
    "holidays_events_df.dtypes"
   ]
  },
  {
   "cell_type": "code",
   "execution_count": 38,
   "metadata": {},
   "outputs": [
    {
     "data": {
      "text/plain": [
       "date            datetime64[ns]\n",
       "store_nbr                int64\n",
       "transactions             int64\n",
       "dtype: object"
      ]
     },
     "execution_count": 38,
     "metadata": {},
     "output_type": "execute_result"
    }
   ],
   "source": [
    "transactions_df.date=pd.to_datetime(transactions_df.date)\n",
    "transactions_df.dtypes"
   ]
  },
  {
   "cell_type": "markdown",
   "metadata": {},
   "source": [
    "Xử lý dữ liệu thiếu"
   ]
  },
  {
   "cell_type": "markdown",
   "metadata": {},
   "source": [
    "Tiến hành trực quan cột dữ liệu thiếu bằng histogram để xem dữ liệu có lệch nhiều không để tiến hành điền dữ liệu thiếu."
   ]
  },
  {
   "cell_type": "code",
   "execution_count": 39,
   "metadata": {},
   "outputs": [
    {
     "data": {
      "application/vnd.plotly.v1+json": {
       "config": {
        "plotlyServerURL": "https://plot.ly"
       },
       "data": [
        {
         "alignmentgroup": "True",
         "bingroup": "x",
         "hovertemplate": "dcoilwtico=%{x}<br>count=%{y}<extra></extra>",
         "legendgroup": "",
         "marker": {
          "color": "#636efa",
          "pattern": {
           "shape": ""
          }
         },
         "name": "",
         "offsetgroup": "",
         "orientation": "v",
         "showlegend": false,
         "type": "histogram",
         "x": [
          null,
          93.14,
          92.97,
          93.12,
          93.2,
          93.21,
          93.08,
          93.81,
          93.6,
          94.27,
          93.26,
          94.28,
          95.49,
          95.61,
          null,
          96.09,
          95.06,
          95.35,
          95.15,
          95.95,
          97.62,
          97.98,
          97.65,
          97.46,
          96.21,
          96.68,
          96.44,
          95.84,
          95.71,
          97.01,
          97.48,
          97.03,
          97.3,
          95.95,
          null,
          96.69,
          94.92,
          92.79,
          93.12,
          92.74,
          92.63,
          92.84,
          92.03,
          90.71,
          90.13,
          90.88,
          90.47,
          91.53,
          92.01,
          92.07,
          92.44,
          92.47,
          93.03,
          93.49,
          93.71,
          92.44,
          93.21,
          92.46,
          93.41,
          94.55,
          95.99,
          96.53,
          97.24,
          null,
          97.1,
          97.23,
          95.02,
          93.26,
          92.76,
          93.36,
          94.18,
          94.59,
          93.44,
          91.23,
          88.75,
          88.73,
          86.65,
          87.83,
          88.04,
          88.81,
          89.21,
          91.07,
          93.27,
          92.63,
          94.09,
          93.22,
          90.74,
          93.7,
          95.25,
          95.8,
          95.28,
          96.24,
          96.09,
          95.81,
          94.76,
          93.96,
          93.95,
          94.85,
          95.72,
          96.29,
          95.55,
          93.98,
          94.12,
          93.84,
          null,
          94.65,
          93.13,
          93.57,
          91.93,
          93.41,
          93.36,
          93.66,
          94.71,
          96.11,
          95.82,
          95.5,
          95.98,
          96.66,
          97.83,
          97.86,
          98.46,
          98.24,
          94.89,
          93.81,
          95.07,
          95.25,
          95.47,
          97,
          96.36,
          97.94,
          99.65,
          101.92,
          null,
          103.09,
          103.03,
          103.46,
          106.41,
          104.77,
          105.85,
          106.2,
          105.88,
          106.39,
          107.94,
          108,
          106.61,
          107.13,
          105.41,
          105.47,
          104.76,
          104.61,
          103.14,
          105.1,
          107.93,
          106.94,
          106.61,
          105.32,
          104.41,
          103.45,
          106.04,
          106.19,
          106.78,
          106.89,
          107.43,
          107.58,
          107.14,
          104.9,
          103.93,
          104.93,
          106.48,
          105.88,
          109.11,
          110.17,
          108.51,
          107.98,
          null,
          108.67,
          107.29,
          108.5,
          110.62,
          109.62,
          107.48,
          107.65,
          108.72,
          108.31,
          106.54,
          105.36,
          108.23,
          106.26,
          104.7,
          103.62,
          103.22,
          102.68,
          103.1,
          102.86,
          102.36,
          102.09,
          104.15,
          103.29,
          103.83,
          103.07,
          103.54,
          101.63,
          103.08,
          102.17,
          102.46,
          101.15,
          102.34,
          100.72,
          100.87,
          99.28,
          97.63,
          96.9,
          96.65,
          97.4,
          98.74,
          98.29,
          96.81,
          96.29,
          94.56,
          94.58,
          93.4,
          94.74,
          94.25,
          94.56,
          95.13,
          93.12,
          93.91,
          93.76,
          93.8,
          93.03,
          93.35,
          93.34,
          95.35,
          94.53,
          93.86,
          93.41,
          92.05,
          null,
          92.55,
          93.61,
          95.83,
          96.97,
          97.14,
          97.48,
          97.1,
          98.32,
          97.25,
          97.21,
          96.27,
          97.18,
          96.99,
          97.59,
          98.4,
          99.11,
          98.62,
          98.87,
          null,
          99.18,
          99.94,
          98.9,
          98.17,
          null,
          95.14,
          93.66,
          93.12,
          93.31,
          91.9,
          91.36,
          92.39,
          91.45,
          92.15,
          93.78,
          93.54,
          93.96,
          null,
          94.51,
          96.35,
          97.23,
          96.66,
          95.82,
          97.49,
          97.34,
          98.25,
          97.55,
          96.44,
          97.24,
          97.4,
          97.84,
          99.98,
          100.12,
          99.96,
          100.38,
          100.27,
          100.31,
          null,
          102.54,
          103.46,
          103.2,
          102.53,
          103.17,
          102.2,
          102.93,
          102.68,
          102.88,
          105.34,
          103.64,
          101.75,
          101.82,
          102.82,
          101.39,
          100.29,
          98.29,
          98.57,
          99.23,
          98.43,
          100.08,
          100.71,
          99.68,
          99.97,
          100.05,
          99.66,
          100.61,
          101.25,
          101.73,
          101.57,
          99.69,
          99.6,
          100.29,
          101.16,
          100.43,
          102.57,
          103.55,
          103.37,
          103.68,
          104.05,
          103.7,
          103.71,
          104.33,
          null,
          104.35,
          101.69,
          101.47,
          102.2,
          100.85,
          101.13,
          101.56,
          100.07,
          99.69,
          100.09,
          99.74,
          99.81,
          101.06,
          100.52,
          100.32,
          100.89,
          102.01,
          102.63,
          101.74,
          102.31,
          102.95,
          102.8,
          104.31,
          104.03,
          105.01,
          null,
          104.78,
          103.37,
          104.26,
          103.4,
          103.07,
          103.34,
          103.27,
          103.17,
          103.32,
          105.09,
          105.02,
          105.04,
          107.2,
          107.49,
          107.52,
          106.95,
          106.64,
          107.08,
          107.95,
          106.83,
          106.64,
          107.04,
          106.49,
          106.46,
          106.07,
          106.06,
          105.18,
          104.76,
          null,
          104.19,
          104.06,
          102.93,
          103.61,
          101.48,
          101.73,
          100.56,
          101.88,
          103.84,
          103.83,
          105.34,
          104.59,
          103.81,
          102.76,
          105.23,
          105.68,
          104.91,
          104.29,
          98.23,
          97.86,
          98.26,
          97.34,
          96.93,
          97.34,
          97.61,
          98.09,
          97.36,
          97.57,
          95.54,
          97.3,
          96.44,
          94.35,
          96.4,
          93.97,
          93.61,
          95.39,
          95.78,
          95.82,
          96.44,
          97.86,
          null,
          92.92,
          95.5,
          94.51,
          93.32,
          92.64,
          92.73,
          91.71,
          92.89,
          92.18,
          92.86,
          94.91,
          94.33,
          93.07,
          92.43,
          91.46,
          91.55,
          93.6,
          93.59,
          95.55,
          94.53,
          91.17,
          90.74,
          91.02,
          89.76,
          90.33,
          88.89,
          87.29,
          85.76,
          85.87,
          85.73,
          81.72,
          81.82,
          82.33,
          82.8,
          82.76,
          83.25,
          80.52,
          82.81,
          81.27,
          81.26,
          81.36,
          82.25,
          81.06,
          80.53,
          78.77,
          77.15,
          78.71,
          77.87,
          78.71,
          77.43,
          77.85,
          77.16,
          74.13,
          75.91,
          75.64,
          74.55,
          74.55,
          75.63,
          76.52,
          75.74,
          74.04,
          73.7,
          null,
          65.94,
          68.98,
          66.99,
          67.3,
          66.73,
          65.89,
          63.13,
          63.74,
          60.99,
          60.01,
          57.81,
          55.96,
          55.97,
          56.43,
          54.18,
          56.91,
          55.25,
          56.78,
          55.7,
          null,
          54.59,
          53.46,
          54.14,
          53.45,
          null,
          52.72,
          50.05,
          47.98,
          48.69,
          48.8,
          48.35,
          46.06,
          45.92,
          48.49,
          46.37,
          48.49,
          null,
          46.79,
          47.85,
          45.93,
          45.26,
          44.8,
          45.84,
          44.08,
          44.12,
          47.79,
          49.25,
          53.04,
          48.45,
          50.48,
          51.66,
          52.99,
          50.06,
          48.8,
          51.17,
          52.66,
          null,
          53.56,
          52.13,
          51.12,
          49.95,
          49.56,
          48.48,
          50.25,
          47.65,
          49.84,
          49.59,
          50.43,
          51.53,
          50.76,
          49.61,
          49.95,
          48.42,
          48.06,
          47.12,
          44.88,
          43.93,
          43.39,
          44.63,
          44.02,
          46,
          47.4,
          47.03,
          48.75,
          51.41,
          48.83,
          48.66,
          47.72,
          50.12,
          49.13,
          null,
          52.08,
          53.95,
          50.44,
          50.79,
          51.63,
          51.95,
          53.3,
          56.25,
          56.69,
          55.71,
          56.37,
          55.58,
          56.17,
          56.59,
          55.98,
          55.56,
          57.05,
          58.55,
          59.62,
          59.1,
          58.92,
          60.38,
          60.93,
          58.99,
          59.41,
          59.23,
          60.72,
          60.5,
          59.89,
          59.73,
          59.44,
          57.3,
          58.96,
          60.18,
          58.88,
          null,
          57.29,
          57.51,
          57.69,
          60.25,
          60.24,
          61.3,
          59.67,
          58,
          59.11,
          58.15,
          60.15,
          61.36,
          60.74,
          59.96,
          59.53,
          60.01,
          59.89,
          60.41,
          59.62,
          60.01,
          61.05,
          60.01,
          59.59,
          59.41,
          58.34,
          59.48,
          56.94,
          56.93,
          null,
          52.48,
          52.33,
          51.61,
          52.76,
          52.74,
          52.19,
          53.05,
          51.4,
          50.9,
          50.88,
          50.11,
          50.59,
          49.27,
          48.11,
          47.98,
          47.17,
          47.97,
          48.77,
          48.53,
          47.11,
          45.25,
          45.75,
          45.13,
          44.69,
          43.87,
          44.94,
          43.11,
          43.22,
          42.27,
          42.45,
          41.93,
          42.58,
          40.75,
          41,
          40.45,
          38.22,
          39.15,
          38.5,
          42.47,
          45.29,
          49.2,
          45.38,
          46.3,
          46.75,
          46.02,
          null,
          45.92,
          44.13,
          45.85,
          44.75,
          44.07,
          44.58,
          47.12,
          46.93,
          44.71,
          46.67,
          46.17,
          44.53,
          44.94,
          45.55,
          44.4,
          45.24,
          45.06,
          44.75,
          45.54,
          46.28,
          48.53,
          47.86,
          49.46,
          49.67,
          47.09,
          46.7,
          46.63,
          46.38,
          47.3,
          45.91,
          45.84,
          45.22,
          44.9,
          43.91,
          43.19,
          43.21,
          45.93,
          46.02,
          46.6,
          46.12,
          47.88,
          46.32,
          45.27,
          44.32,
          43.87,
          44.23,
          42.95,
          41.74,
          40.69,
          41.68,
          40.73,
          40.75,
          40.55,
          39.39,
          39.27,
          40.89,
          41.22,
          null,
          40.57,
          40.43,
          40.58,
          39.93,
          41.08,
          40,
          37.64,
          37.46,
          37.16,
          36.76,
          35.65,
          36.31,
          37.32,
          35.55,
          34.98,
          34.72,
          34.55,
          36.12,
          36.76,
          37.62,
          null,
          36.36,
          37.88,
          36.59,
          37.13,
          null,
          36.81,
          35.97,
          33.97,
          33.29,
          33.2,
          31.42,
          30.42,
          30.42,
          31.22,
          29.45,
          null,
          28.47,
          26.68,
          29.55,
          32.07,
          30.31,
          29.54,
          32.32,
          33.21,
          33.66,
          31.62,
          29.9,
          32.29,
          31.63,
          30.86,
          29.71,
          27.96,
          27.54,
          26.19,
          29.32,
          null,
          29.05,
          30.68,
          30.77,
          29.59,
          31.37,
          31.84,
          30.35,
          31.4,
          31.65,
          32.74,
          34.39,
          34.57,
          34.56,
          35.91,
          37.9,
          36.67,
          37.62,
          37.77,
          38.51,
          37.2,
          36.32,
          38.43,
          40.17,
          39.47,
          39.91,
          41.45,
          38.28,
          38.14,
          null,
          37.99,
          36.91,
          36.91,
          36.94,
          35.36,
          34.3,
          34.52,
          37.74,
          37.3,
          39.74,
          40.46,
          42.12,
          41.7,
          41.45,
          40.4,
          39.74,
          40.88,
          42.72,
          43.18,
          42.76,
          41.67,
          42.52,
          45.29,
          46.03,
          45.98,
          44.75,
          43.65,
          43.77,
          44.33,
          44.58,
          43.45,
          44.68,
          46.21,
          46.64,
          46.22,
          47.72,
          48.29,
          48.12,
          48.16,
          47.67,
          48.12,
          48.04,
          49.1,
          49,
          49.36,
          null,
          49.1,
          49.07,
          49.14,
          48.69,
          49.71,
          50.37,
          51.23,
          50.52,
          49.09,
          48.89,
          48.49,
          47.92,
          46.14,
          48,
          49.4,
          48.95,
          49.16,
          49.34,
          46.7,
          45.8,
          47.93,
          49.85,
          48.27,
          49.02,
          null,
          46.73,
          47.37,
          45.22,
          45.37,
          44.73,
          46.82,
          44.87,
          45.64,
          45.93,
          45.23,
          44.64,
          44.96,
          43.96,
          43.41,
          42.4,
          42.16,
          41.9,
          41.13,
          41.54,
          40.05,
          39.5,
          40.8,
          41.92,
          41.83,
          43.06,
          42.78,
          41.75,
          43.51,
          44.47,
          45.72,
          46.57,
          46.81,
          48.2,
          48.48,
          46.8,
          47.54,
          46.29,
          46.97,
          47.64,
          46.97,
          46.32,
          44.68,
          43.17,
          44.39,
          null,
          44.85,
          45.47,
          47.63,
          45.88,
          46.28,
          44.91,
          43.62,
          43.85,
          43.04,
          43.34,
          43.85,
          45.33,
          46.1,
          44.36,
          45.6,
          44.65,
          47.07,
          47.72,
          47.72,
          48.8,
          48.67,
          49.75,
          50.44,
          49.76,
          49.76,
          50.72,
          50.14,
          50.47,
          50.35,
          49.97,
          50.3,
          51.59,
          50.31,
          50.61,
          50.18,
          49.45,
          48.75,
          49.71,
          48.72,
          46.83,
          46.66,
          45.32,
          44.66,
          44.07,
          44.88,
          44.96,
          45.2,
          44.62,
          43.39,
          43.29,
          45.86,
          45.56,
          45.37,
          45.69,
          47.48,
          48.07,
          46.72,
          null,
          46.72,
          45.66,
          45.29,
          49.41,
          51.08,
          51.7,
          51.72,
          50.95,
          49.85,
          50.84,
          51.51,
          52.74,
          52.99,
          51.01,
          50.9,
          51.93,
          52.13,
          52.22,
          51.44,
          51.98,
          52.01,
          null,
          52.82,
          54.01,
          53.8,
          53.75,
          null,
          52.36,
          53.26,
          53.77,
          53.98,
          51.95,
          50.82,
          52.19,
          53.01,
          52.36,
          null,
          52.45,
          51.12,
          51.39,
          52.33,
          52.77,
          52.38,
          52.14,
          53.24,
          53.18,
          52.63,
          52.75,
          53.9,
          53.55,
          53.81,
          53.01,
          52.19,
          52.37,
          52.99,
          53.84,
          52.96,
          53.21,
          53.11,
          53.41,
          53.41,
          null,
          54.02,
          53.61,
          54.48,
          53.99,
          54.04,
          54,
          53.82,
          52.63,
          53.33,
          53.19,
          52.68,
          49.83,
          48.75,
          48.05,
          47.95,
          47.24,
          48.34,
          48.3,
          48.34,
          47.79,
          47.02,
          47.29,
          47,
          47.3,
          47.02,
          48.36,
          49.47,
          50.3,
          50.54,
          50.25,
          50.99,
          51.14,
          51.69,
          52.25,
          53.06,
          53.38,
          53.12,
          53.19,
          null,
          52.62,
          52.46,
          50.49,
          50.26,
          49.64,
          48.9,
          49.22,
          49.22,
          48.96,
          49.31,
          48.83,
          47.65,
          47.79,
          45.55,
          46.23,
          46.46,
          45.84,
          47.28,
          47.81,
          47.83,
          48.86,
          48.64,
          49.04,
          49.36,
          50.32,
          50.81,
          51.12,
          50.99,
          48.57,
          49.58,
          null,
          49.63,
          48.29,
          48.32,
          47.68,
          47.4,
          48.13,
          45.8,
          45.68,
          45.82,
          46.1,
          46.41,
          44.79,
          44.47,
          44.73,
          44.24,
          43.34,
          42.48,
          42.53,
          42.86,
          43.24,
          44.25,
          44.74,
          44.88,
          46.02,
          null,
          null,
          45.11,
          45.52,
          44.25,
          44.4,
          45.06,
          45.48,
          46.06,
          46.53,
          46.02,
          46.4,
          47.1,
          46.73,
          45.78,
          46.21,
          47.77,
          48.58,
          49.05,
          49.72,
          50.21,
          49.19,
          49.6,
          49.03,
          49.57,
          49.37,
          49.07,
          49.59,
          48.54,
          48.81,
          47.59,
          47.57,
          46.8,
          47.07,
          48.59,
          47.39,
          47.65,
          48.45,
          47.24,
          47.65,
          46.4,
          46.46,
          45.96,
          47.26
         ],
         "xaxis": "x",
         "yaxis": "y"
        }
       ],
       "layout": {
        "barmode": "relative",
        "legend": {
         "tracegroupgap": 0
        },
        "margin": {
         "t": 60
        },
        "template": {
         "data": {
          "bar": [
           {
            "error_x": {
             "color": "#2a3f5f"
            },
            "error_y": {
             "color": "#2a3f5f"
            },
            "marker": {
             "line": {
              "color": "#E5ECF6",
              "width": 0.5
             },
             "pattern": {
              "fillmode": "overlay",
              "size": 10,
              "solidity": 0.2
             }
            },
            "type": "bar"
           }
          ],
          "barpolar": [
           {
            "marker": {
             "line": {
              "color": "#E5ECF6",
              "width": 0.5
             },
             "pattern": {
              "fillmode": "overlay",
              "size": 10,
              "solidity": 0.2
             }
            },
            "type": "barpolar"
           }
          ],
          "carpet": [
           {
            "aaxis": {
             "endlinecolor": "#2a3f5f",
             "gridcolor": "white",
             "linecolor": "white",
             "minorgridcolor": "white",
             "startlinecolor": "#2a3f5f"
            },
            "baxis": {
             "endlinecolor": "#2a3f5f",
             "gridcolor": "white",
             "linecolor": "white",
             "minorgridcolor": "white",
             "startlinecolor": "#2a3f5f"
            },
            "type": "carpet"
           }
          ],
          "choropleth": [
           {
            "colorbar": {
             "outlinewidth": 0,
             "ticks": ""
            },
            "type": "choropleth"
           }
          ],
          "contour": [
           {
            "colorbar": {
             "outlinewidth": 0,
             "ticks": ""
            },
            "colorscale": [
             [
              0,
              "#0d0887"
             ],
             [
              0.1111111111111111,
              "#46039f"
             ],
             [
              0.2222222222222222,
              "#7201a8"
             ],
             [
              0.3333333333333333,
              "#9c179e"
             ],
             [
              0.4444444444444444,
              "#bd3786"
             ],
             [
              0.5555555555555556,
              "#d8576b"
             ],
             [
              0.6666666666666666,
              "#ed7953"
             ],
             [
              0.7777777777777778,
              "#fb9f3a"
             ],
             [
              0.8888888888888888,
              "#fdca26"
             ],
             [
              1,
              "#f0f921"
             ]
            ],
            "type": "contour"
           }
          ],
          "contourcarpet": [
           {
            "colorbar": {
             "outlinewidth": 0,
             "ticks": ""
            },
            "type": "contourcarpet"
           }
          ],
          "heatmap": [
           {
            "colorbar": {
             "outlinewidth": 0,
             "ticks": ""
            },
            "colorscale": [
             [
              0,
              "#0d0887"
             ],
             [
              0.1111111111111111,
              "#46039f"
             ],
             [
              0.2222222222222222,
              "#7201a8"
             ],
             [
              0.3333333333333333,
              "#9c179e"
             ],
             [
              0.4444444444444444,
              "#bd3786"
             ],
             [
              0.5555555555555556,
              "#d8576b"
             ],
             [
              0.6666666666666666,
              "#ed7953"
             ],
             [
              0.7777777777777778,
              "#fb9f3a"
             ],
             [
              0.8888888888888888,
              "#fdca26"
             ],
             [
              1,
              "#f0f921"
             ]
            ],
            "type": "heatmap"
           }
          ],
          "heatmapgl": [
           {
            "colorbar": {
             "outlinewidth": 0,
             "ticks": ""
            },
            "colorscale": [
             [
              0,
              "#0d0887"
             ],
             [
              0.1111111111111111,
              "#46039f"
             ],
             [
              0.2222222222222222,
              "#7201a8"
             ],
             [
              0.3333333333333333,
              "#9c179e"
             ],
             [
              0.4444444444444444,
              "#bd3786"
             ],
             [
              0.5555555555555556,
              "#d8576b"
             ],
             [
              0.6666666666666666,
              "#ed7953"
             ],
             [
              0.7777777777777778,
              "#fb9f3a"
             ],
             [
              0.8888888888888888,
              "#fdca26"
             ],
             [
              1,
              "#f0f921"
             ]
            ],
            "type": "heatmapgl"
           }
          ],
          "histogram": [
           {
            "marker": {
             "pattern": {
              "fillmode": "overlay",
              "size": 10,
              "solidity": 0.2
             }
            },
            "type": "histogram"
           }
          ],
          "histogram2d": [
           {
            "colorbar": {
             "outlinewidth": 0,
             "ticks": ""
            },
            "colorscale": [
             [
              0,
              "#0d0887"
             ],
             [
              0.1111111111111111,
              "#46039f"
             ],
             [
              0.2222222222222222,
              "#7201a8"
             ],
             [
              0.3333333333333333,
              "#9c179e"
             ],
             [
              0.4444444444444444,
              "#bd3786"
             ],
             [
              0.5555555555555556,
              "#d8576b"
             ],
             [
              0.6666666666666666,
              "#ed7953"
             ],
             [
              0.7777777777777778,
              "#fb9f3a"
             ],
             [
              0.8888888888888888,
              "#fdca26"
             ],
             [
              1,
              "#f0f921"
             ]
            ],
            "type": "histogram2d"
           }
          ],
          "histogram2dcontour": [
           {
            "colorbar": {
             "outlinewidth": 0,
             "ticks": ""
            },
            "colorscale": [
             [
              0,
              "#0d0887"
             ],
             [
              0.1111111111111111,
              "#46039f"
             ],
             [
              0.2222222222222222,
              "#7201a8"
             ],
             [
              0.3333333333333333,
              "#9c179e"
             ],
             [
              0.4444444444444444,
              "#bd3786"
             ],
             [
              0.5555555555555556,
              "#d8576b"
             ],
             [
              0.6666666666666666,
              "#ed7953"
             ],
             [
              0.7777777777777778,
              "#fb9f3a"
             ],
             [
              0.8888888888888888,
              "#fdca26"
             ],
             [
              1,
              "#f0f921"
             ]
            ],
            "type": "histogram2dcontour"
           }
          ],
          "mesh3d": [
           {
            "colorbar": {
             "outlinewidth": 0,
             "ticks": ""
            },
            "type": "mesh3d"
           }
          ],
          "parcoords": [
           {
            "line": {
             "colorbar": {
              "outlinewidth": 0,
              "ticks": ""
             }
            },
            "type": "parcoords"
           }
          ],
          "pie": [
           {
            "automargin": true,
            "type": "pie"
           }
          ],
          "scatter": [
           {
            "marker": {
             "colorbar": {
              "outlinewidth": 0,
              "ticks": ""
             }
            },
            "type": "scatter"
           }
          ],
          "scatter3d": [
           {
            "line": {
             "colorbar": {
              "outlinewidth": 0,
              "ticks": ""
             }
            },
            "marker": {
             "colorbar": {
              "outlinewidth": 0,
              "ticks": ""
             }
            },
            "type": "scatter3d"
           }
          ],
          "scattercarpet": [
           {
            "marker": {
             "colorbar": {
              "outlinewidth": 0,
              "ticks": ""
             }
            },
            "type": "scattercarpet"
           }
          ],
          "scattergeo": [
           {
            "marker": {
             "colorbar": {
              "outlinewidth": 0,
              "ticks": ""
             }
            },
            "type": "scattergeo"
           }
          ],
          "scattergl": [
           {
            "marker": {
             "colorbar": {
              "outlinewidth": 0,
              "ticks": ""
             }
            },
            "type": "scattergl"
           }
          ],
          "scattermapbox": [
           {
            "marker": {
             "colorbar": {
              "outlinewidth": 0,
              "ticks": ""
             }
            },
            "type": "scattermapbox"
           }
          ],
          "scatterpolar": [
           {
            "marker": {
             "colorbar": {
              "outlinewidth": 0,
              "ticks": ""
             }
            },
            "type": "scatterpolar"
           }
          ],
          "scatterpolargl": [
           {
            "marker": {
             "colorbar": {
              "outlinewidth": 0,
              "ticks": ""
             }
            },
            "type": "scatterpolargl"
           }
          ],
          "scatterternary": [
           {
            "marker": {
             "colorbar": {
              "outlinewidth": 0,
              "ticks": ""
             }
            },
            "type": "scatterternary"
           }
          ],
          "surface": [
           {
            "colorbar": {
             "outlinewidth": 0,
             "ticks": ""
            },
            "colorscale": [
             [
              0,
              "#0d0887"
             ],
             [
              0.1111111111111111,
              "#46039f"
             ],
             [
              0.2222222222222222,
              "#7201a8"
             ],
             [
              0.3333333333333333,
              "#9c179e"
             ],
             [
              0.4444444444444444,
              "#bd3786"
             ],
             [
              0.5555555555555556,
              "#d8576b"
             ],
             [
              0.6666666666666666,
              "#ed7953"
             ],
             [
              0.7777777777777778,
              "#fb9f3a"
             ],
             [
              0.8888888888888888,
              "#fdca26"
             ],
             [
              1,
              "#f0f921"
             ]
            ],
            "type": "surface"
           }
          ],
          "table": [
           {
            "cells": {
             "fill": {
              "color": "#EBF0F8"
             },
             "line": {
              "color": "white"
             }
            },
            "header": {
             "fill": {
              "color": "#C8D4E3"
             },
             "line": {
              "color": "white"
             }
            },
            "type": "table"
           }
          ]
         },
         "layout": {
          "annotationdefaults": {
           "arrowcolor": "#2a3f5f",
           "arrowhead": 0,
           "arrowwidth": 1
          },
          "autotypenumbers": "strict",
          "coloraxis": {
           "colorbar": {
            "outlinewidth": 0,
            "ticks": ""
           }
          },
          "colorscale": {
           "diverging": [
            [
             0,
             "#8e0152"
            ],
            [
             0.1,
             "#c51b7d"
            ],
            [
             0.2,
             "#de77ae"
            ],
            [
             0.3,
             "#f1b6da"
            ],
            [
             0.4,
             "#fde0ef"
            ],
            [
             0.5,
             "#f7f7f7"
            ],
            [
             0.6,
             "#e6f5d0"
            ],
            [
             0.7,
             "#b8e186"
            ],
            [
             0.8,
             "#7fbc41"
            ],
            [
             0.9,
             "#4d9221"
            ],
            [
             1,
             "#276419"
            ]
           ],
           "sequential": [
            [
             0,
             "#0d0887"
            ],
            [
             0.1111111111111111,
             "#46039f"
            ],
            [
             0.2222222222222222,
             "#7201a8"
            ],
            [
             0.3333333333333333,
             "#9c179e"
            ],
            [
             0.4444444444444444,
             "#bd3786"
            ],
            [
             0.5555555555555556,
             "#d8576b"
            ],
            [
             0.6666666666666666,
             "#ed7953"
            ],
            [
             0.7777777777777778,
             "#fb9f3a"
            ],
            [
             0.8888888888888888,
             "#fdca26"
            ],
            [
             1,
             "#f0f921"
            ]
           ],
           "sequentialminus": [
            [
             0,
             "#0d0887"
            ],
            [
             0.1111111111111111,
             "#46039f"
            ],
            [
             0.2222222222222222,
             "#7201a8"
            ],
            [
             0.3333333333333333,
             "#9c179e"
            ],
            [
             0.4444444444444444,
             "#bd3786"
            ],
            [
             0.5555555555555556,
             "#d8576b"
            ],
            [
             0.6666666666666666,
             "#ed7953"
            ],
            [
             0.7777777777777778,
             "#fb9f3a"
            ],
            [
             0.8888888888888888,
             "#fdca26"
            ],
            [
             1,
             "#f0f921"
            ]
           ]
          },
          "colorway": [
           "#636efa",
           "#EF553B",
           "#00cc96",
           "#ab63fa",
           "#FFA15A",
           "#19d3f3",
           "#FF6692",
           "#B6E880",
           "#FF97FF",
           "#FECB52"
          ],
          "font": {
           "color": "#2a3f5f"
          },
          "geo": {
           "bgcolor": "white",
           "lakecolor": "white",
           "landcolor": "#E5ECF6",
           "showlakes": true,
           "showland": true,
           "subunitcolor": "white"
          },
          "hoverlabel": {
           "align": "left"
          },
          "hovermode": "closest",
          "mapbox": {
           "style": "light"
          },
          "paper_bgcolor": "white",
          "plot_bgcolor": "#E5ECF6",
          "polar": {
           "angularaxis": {
            "gridcolor": "white",
            "linecolor": "white",
            "ticks": ""
           },
           "bgcolor": "#E5ECF6",
           "radialaxis": {
            "gridcolor": "white",
            "linecolor": "white",
            "ticks": ""
           }
          },
          "scene": {
           "xaxis": {
            "backgroundcolor": "#E5ECF6",
            "gridcolor": "white",
            "gridwidth": 2,
            "linecolor": "white",
            "showbackground": true,
            "ticks": "",
            "zerolinecolor": "white"
           },
           "yaxis": {
            "backgroundcolor": "#E5ECF6",
            "gridcolor": "white",
            "gridwidth": 2,
            "linecolor": "white",
            "showbackground": true,
            "ticks": "",
            "zerolinecolor": "white"
           },
           "zaxis": {
            "backgroundcolor": "#E5ECF6",
            "gridcolor": "white",
            "gridwidth": 2,
            "linecolor": "white",
            "showbackground": true,
            "ticks": "",
            "zerolinecolor": "white"
           }
          },
          "shapedefaults": {
           "line": {
            "color": "#2a3f5f"
           }
          },
          "ternary": {
           "aaxis": {
            "gridcolor": "white",
            "linecolor": "white",
            "ticks": ""
           },
           "baxis": {
            "gridcolor": "white",
            "linecolor": "white",
            "ticks": ""
           },
           "bgcolor": "#E5ECF6",
           "caxis": {
            "gridcolor": "white",
            "linecolor": "white",
            "ticks": ""
           }
          },
          "title": {
           "x": 0.05
          },
          "xaxis": {
           "automargin": true,
           "gridcolor": "white",
           "linecolor": "white",
           "ticks": "",
           "title": {
            "standoff": 15
           },
           "zerolinecolor": "white",
           "zerolinewidth": 2
          },
          "yaxis": {
           "automargin": true,
           "gridcolor": "white",
           "linecolor": "white",
           "ticks": "",
           "title": {
            "standoff": 15
           },
           "zerolinecolor": "white",
           "zerolinewidth": 2
          }
         }
        },
        "xaxis": {
         "anchor": "y",
         "domain": [
          0,
          1
         ],
         "title": {
          "text": "dcoilwtico"
         }
        },
        "yaxis": {
         "anchor": "x",
         "domain": [
          0,
          1
         ],
         "title": {
          "text": "count"
         }
        }
       }
      }
     },
     "metadata": {},
     "output_type": "display_data"
    }
   ],
   "source": [
    "fig = px.histogram(oil_df, x=\"dcoilwtico\")\n",
    "fig.show()"
   ]
  },
  {
   "cell_type": "markdown",
   "metadata": {},
   "source": [
    "> Dữ liệu lệch và không phân phối đều nên điền dữ liệu thiếu bằng trung vị để giảm thiểu độ lệch."
   ]
  },
  {
   "cell_type": "code",
   "execution_count": 40,
   "metadata": {},
   "outputs": [],
   "source": [
    "oil_df.dcoilwtico.fillna(np.median(oil_df.dcoilwtico[~np.isnan(oil_df.dcoilwtico)]),inplace = True)"
   ]
  },
  {
   "cell_type": "markdown",
   "metadata": {},
   "source": [
    "Xuất các file đã chỉnh sửa để trực quan"
   ]
  },
  {
   "cell_type": "code",
   "execution_count": 42,
   "metadata": {},
   "outputs": [],
   "source": [
    "train_df.to_csv('Visualization/train.csv')\n",
    "oil_df.to_csv('Visualization/oil.csv')\n",
    "holidays_events_df.to_csv('Visualization/holidays_events.csv')\n",
    "stores_df.to_csv('Visualization/stores_df.csv')\n",
    "transactions_df.to_csv('Visualization/transactions.csv')\n"
   ]
  },
  {
   "cell_type": "markdown",
   "metadata": {},
   "source": [
    ">Tiếp theo ta sẽ tiến hành trực quan bằng `Tableau`."
   ]
  }
 ],
 "metadata": {
  "kernelspec": {
   "display_name": "base",
   "language": "python",
   "name": "python3"
  },
  "language_info": {
   "codemirror_mode": {
    "name": "ipython",
    "version": 3
   },
   "file_extension": ".py",
   "mimetype": "text/x-python",
   "name": "python",
   "nbconvert_exporter": "python",
   "pygments_lexer": "ipython3",
   "version": "3.9.7"
  },
  "orig_nbformat": 4
 },
 "nbformat": 4,
 "nbformat_minor": 2
}
